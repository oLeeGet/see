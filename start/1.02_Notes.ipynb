{
 "cells": [
  {
   "cell_type": "markdown",
   "metadata": {},
   "source": [
    "### 建立 Folder"
   ]
  },
  {
   "cell_type": "code",
   "execution_count": null,
   "metadata": {},
   "outputs": [],
   "source": [
    "import os \n",
    "folder = \"testing\"\n",
    "if not os.path.exists(folder):\n",
    "    os.mkdir(folder)"
   ]
  },
  {
   "cell_type": "markdown",
   "metadata": {},
   "source": [
    "### Save file"
   ]
  },
  {
   "cell_type": "code",
   "execution_count": null,
   "metadata": {},
   "outputs": [],
   "source": [
    "import aflib as util\n",
    "import pandas as pd\n",
    "file = util.gen_file_path(\"hihi\",\"my\").type()\n",
    "\n",
    "with pd.ExcelWriter(file) as writer:\n",
    "    df1.to_excel (\n",
    "        writer,\n",
    "        sheet_name=\"hihi\",\n",
    "        index=False\n",
    "    )\n",
    "\n",
    "util.open_file(file)"
   ]
  }
 ],
 "metadata": {
  "kernelspec": {
   "display_name": "Python 3.9.4 64-bit",
   "language": "python",
   "name": "python3"
  },
  "language_info": {
   "name": "python",
   "version": "3.9.4"
  },
  "orig_nbformat": 4,
  "vscode": {
   "interpreter": {
    "hash": "fe5cf89f7427700fbbd2b7e94754439c720cb46ec6a08ffaac3d8e32e153cd87"
   }
  }
 },
 "nbformat": 4,
 "nbformat_minor": 2
}
