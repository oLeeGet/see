{
 "cells": [
  {
   "cell_type": "code",
   "execution_count": 1,
   "metadata": {},
   "outputs": [],
   "source": [
    "import time\n",
    "def do_step(step):\n",
    "    time.sleep(0.1)\n",
    "\n",
    "for step in range(100):\n",
    "    do_step(step)\n"
   ]
  },
  {
   "cell_type": "markdown",
   "metadata": {},
   "source": [
    "> https://www.youtube.com/watch?v=mw6Ynire3jQ"
   ]
  },
  {
   "cell_type": "code",
   "execution_count": 1,
   "metadata": {},
   "outputs": [
    {
     "ename": "ModuleNotFoundError",
     "evalue": "No module named 'rich'",
     "output_type": "error",
     "traceback": [
      "\u001b[1;31m---------------------------------------------------------------------------\u001b[0m",
      "\u001b[1;31mModuleNotFoundError\u001b[0m                       Traceback (most recent call last)",
      "\u001b[1;32md:\\Google\\1_Work\\1_Script\\1.1_Python\\001_start\\3.01_Progress_Bars.ipynb Cell 1'\u001b[0m in \u001b[0;36m<cell line: 2>\u001b[1;34m()\u001b[0m\n\u001b[0;32m      <a href='vscode-notebook-cell:/d%3A/Google/1_Work/1_Script/1.1_Python/001_start/3.01_Progress_Bars.ipynb#ch0000000?line=0'>1</a>\u001b[0m \u001b[39mimport\u001b[39;00m \u001b[39mtime\u001b[39;00m\n\u001b[1;32m----> <a href='vscode-notebook-cell:/d%3A/Google/1_Work/1_Script/1.1_Python/001_start/3.01_Progress_Bars.ipynb#ch0000000?line=1'>2</a>\u001b[0m \u001b[39mfrom\u001b[39;00m \u001b[39mrich\u001b[39;00m\u001b[39m.\u001b[39;00m\u001b[39mprogress\u001b[39;00m \u001b[39mimport\u001b[39;00m track\n\u001b[0;32m      <a href='vscode-notebook-cell:/d%3A/Google/1_Work/1_Script/1.1_Python/001_start/3.01_Progress_Bars.ipynb#ch0000000?line=3'>4</a>\u001b[0m \u001b[39mdef\u001b[39;00m \u001b[39mdo_step\u001b[39m(step):\n\u001b[0;32m      <a href='vscode-notebook-cell:/d%3A/Google/1_Work/1_Script/1.1_Python/001_start/3.01_Progress_Bars.ipynb#ch0000000?line=4'>5</a>\u001b[0m     time\u001b[39m.\u001b[39msleep(\u001b[39m0.1\u001b[39m)\n",
      "\u001b[1;31mModuleNotFoundError\u001b[0m: No module named 'rich'"
     ]
    }
   ],
   "source": [
    "import time\n",
    "from rich.progress import track\n",
    "\n",
    "def do_step(step):\n",
    "    time.sleep(0.1)\n",
    "\n",
    "for step in range(100):\n",
    "    print(do_step(step))\n"
   ]
  },
  {
   "cell_type": "markdown",
   "metadata": {},
   "source": [
    "> https://stackoverflow.com/questions/3160699/python-progress-bar"
   ]
  },
  {
   "cell_type": "code",
   "execution_count": 5,
   "metadata": {},
   "outputs": [
    {
     "name": "stderr",
     "output_type": "stream",
     "text": [
      "100%|██████████| 100/100 [00:11<00:00,  9.01it/s]\n"
     ]
    }
   ],
   "source": [
    "import time\n",
    "import tqdm\n",
    "for i in tqdm.tqdm(range(100)):\n",
    "    time.sleep(0.1)"
   ]
  },
  {
   "cell_type": "code",
   "execution_count": 10,
   "metadata": {},
   "outputs": [
    {
     "name": "stdout",
     "output_type": "stream",
     "text": [
      "[                    --------------------]\n"
     ]
    },
    {
     "data": {
      "text/plain": [
       "2"
      ]
     },
     "execution_count": 10,
     "metadata": {},
     "output_type": "execute_result"
    }
   ],
   "source": [
    "import time\n",
    "import sys\n",
    "\n",
    "toolbar_width = 40\n",
    "\n",
    "# setup toolbar\n",
    "sys.stdout.write(\"[%s]\" % (\" \" * toolbar_width))\n",
    "sys.stdout.flush()\n",
    "sys.stdout.write(\"\\b\" * (toolbar_width+1)) # return to start of line, after '['\n",
    "\n",
    "for i in range(toolbar_width):\n",
    "    time.sleep(0.1) # do real work here\n",
    "    # update the bar\n",
    "    sys.stdout.write(\"-\")\n",
    "    sys.stdout.flush()\n",
    "\n",
    "sys.stdout.write(\"]\\n\") # this ends the progress bar"
   ]
  }
 ],
 "metadata": {
  "kernelspec": {
   "display_name": "Python 3.9.12 ('base')",
   "language": "python",
   "name": "python3"
  },
  "language_info": {
   "codemirror_mode": {
    "name": "ipython",
    "version": 3
   },
   "file_extension": ".py",
   "mimetype": "text/x-python",
   "name": "python",
   "nbconvert_exporter": "python",
   "pygments_lexer": "ipython3",
   "version": "3.9.12"
  },
  "orig_nbformat": 4,
  "vscode": {
   "interpreter": {
    "hash": "46a836eade1c4f4ef1fbe618efb4b849be7c738a30af1c21f95d35c6255e5e12"
   }
  }
 },
 "nbformat": 4,
 "nbformat_minor": 2
}
