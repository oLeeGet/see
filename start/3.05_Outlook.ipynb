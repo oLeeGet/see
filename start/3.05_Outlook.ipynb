{
 "cells": [
  {
   "cell_type": "markdown",
   "metadata": {},
   "source": [
    "**Normal text eamil**"
   ]
  },
  {
   "cell_type": "code",
   "execution_count": 7,
   "metadata": {},
   "outputs": [],
   "source": [
    "import win32com.client as win32\n",
    "outlook = win32.Dispatch(\"Outlook.Application\")\n",
    "msg1 = outlook.CreateItem(0)\n",
    "msg1.To = 'aaaaaa@gmail.com;'\n",
    "msg1.CC = 'aaaaaa@gmail.com;'\n",
    "msg1.Subject = 'Happy Birthday!'\n",
    "msg1.Body = 'Wish you happy!!'\n",
    "msg1.Display()"
   ]
  },
  {
   "cell_type": "markdown",
   "metadata": {},
   "source": [
    "**HTML email**"
   ]
  },
  {
   "cell_type": "code",
   "execution_count": 11,
   "metadata": {},
   "outputs": [],
   "source": [
    "import win32com.client as win32\n",
    "outlook = win32.Dispatch(\"Outlook.Application\")\n",
    "msg1 = outlook.CreateItem(0)\n",
    "msg1.To = 'aaaaaa@gmail.com;'\n",
    "msg1.CC = 'aaaaaa@gmail.com;'\n",
    "msg1.Subject = 'Happy Birthday!'\n",
    "\n",
    "html = \"\"\"\n",
    "    <div>\n",
    "        <h1 style=\"font-family: 'Lucida Handwriting'; font-size: 56; font-weight: bold; color: #9eac9c;\">\n",
    "            Happy Birthday!! \n",
    "        </h1>\n",
    "        <span style=\"font-family: 'Lucida Sans'; font-size: 28; color: #8d395c;\">\n",
    "            Wishing you all the best on your birthday!!\n",
    "        </span>\n",
    "    </div><br>\n",
    "    <div>\n",
    "        <img src=\"https://hips.hearstapps.com/hmg-prod.s3.amazonaws.com/images/cute-birthday-instagram-captions-1584723902.jpg\" width=50%>\n",
    "    </div>\n",
    "\"\"\"\n",
    "\n",
    "msg1.HTMLBody = html\n",
    "msg1.Display()"
   ]
  },
  {
   "cell_type": "markdown",
   "metadata": {},
   "source": [
    "**With Attachments & images**"
   ]
  },
  {
   "cell_type": "code",
   "execution_count": 28,
   "metadata": {},
   "outputs": [
    {
     "name": "stdout",
     "output_type": "stream",
     "text": [
      "abs_file1= d:\\Google\\1_Work\\1_Script\\1.1_Python\\001_start\\3.05_Outlook_att1.xlsx\n",
      "abs_img1= d:\\Google\\1_Work\\1_Script\\1.1_Python\\001_start\\3.05_Outlook_img1.png\n",
      "abs_img2= d:\\Google\\1_Work\\1_Script\\1.1_Python\\001_start\\3.05_Outlook_img2.jpg\n"
     ]
    }
   ],
   "source": [
    "import win32com.client as win32\n",
    "import pathlib\n",
    "outlook = win32.Dispatch(\"Outlook.Application\")\n",
    "msg1 = outlook.CreateItem(0)\n",
    "msg1.To = 'aaaaaa@gmail.com;'\n",
    "msg1.CC = 'aaaaaa@gmail.com;'\n",
    "msg1.Subject = 'Happy Birthday!'\n",
    "\n",
    "file1 = '3.05_Outlook_att1.xlsx'\n",
    "img1 = '3.05_Outlook_img1.png'\n",
    "img2 = '3.05_Outlook_img2.jpg'\n",
    "\n",
    "path_file1 = pathlib.Path(file1)\n",
    "path_img1 = pathlib.Path(img1)\n",
    "path_img2 = pathlib.Path(img2)\n",
    "\n",
    "#absolute location\n",
    "abs_file1 = str(path_file1.absolute())\n",
    "abs_img1 = str(path_img1.absolute())\n",
    "abs_img2 = str(path_img2.absolute())\n",
    "\n",
    "print('abs_file1= ' + abs_file1)\n",
    "print('abs_img1= ' + abs_img1)\n",
    "print('abs_img2= ' + abs_img2)\n",
    "\n",
    "# add the file1 as attachment\n",
    "msg1.Attachments.Add(abs_file1)\n",
    "\n",
    "# add the image1 & image2\n",
    "att_img1 = msg1.Attachments.Add(abs_img1)\n",
    "att_img2 = msg1.Attachments.Add(abs_img2)\n",
    "\n",
    "html = \"\"\"\n",
    "    <div>\n",
    "        <h1 style=\"font-family: 'Lucida Handwriting'; font-size: 56; font-weight: bold; color: #9eac9c;\">\n",
    "            Happy Birthday!! \n",
    "        </h1>\n",
    "        <span style=\"font-family: 'Lucida Sans'; font-size: 28; color: #8d395c;\">\n",
    "            Wishing you all the best on your birthday!!\n",
    "        </span>\n",
    "    </div><br>\n",
    "    <div>\n",
    "        <img src=\"cid:demo_img1\"><br/><br/>\n",
    "        <img src=\"cid:demo_img2\">\n",
    "    </div>\n",
    "\"\"\"\n",
    "\n",
    "att_img1.PropertyAccessor.SetProperty(\"http://schemas.microsoft.com/mapi/proptag/0x3712001F\", \"demo_img1\")\n",
    "att_img2.PropertyAccessor.SetProperty(\"http://schemas.microsoft.com/mapi/proptag/0x3712001F\", \"demo_img2\")\n",
    "\n",
    "msg1.HTMLBody = html\n",
    "msg1.Display()"
   ]
  },
  {
   "cell_type": "markdown",
   "metadata": {},
   "source": [
    "**Email Templates**"
   ]
  },
  {
   "cell_type": "code",
   "execution_count": 46,
   "metadata": {},
   "outputs": [],
   "source": [
    "import win32com.client as win32\n",
    "outlook = win32.Dispatch(\"Outlook.Application\")\n",
    "msg1 = outlook.CreateItem(0)\n",
    "msg1.To = 'aaaaaa@gmail.com;'\n",
    "msg1.CC = 'aaaaaa@gmail.com;'\n",
    "msg1.Subject = 'Happy Birthday!'\n",
    "\n",
    "html = \"\"\"\n",
    "    <div>\n",
    "        <h1 style=\"font-family: 'Lucida Handwriting'; font-size: 56; font-weight: bold; color: #9eac9c;\">\n",
    "            Happy Birthday!! \n",
    "        </h1>\n",
    "        <span style=\"font-family: 'Lucida Sans'; font-size: 28; color: #8d395c;\">\n",
    "            Dear {}, Wishing you all the best on your birthday!!\n",
    "        </span>\n",
    "    </div><br>\n",
    "    <div>\n",
    "        <img src=\"https://hips.hearstapps.com/hmg-prod.s3.amazonaws.com/images/cute-birthday-instagram-captions-1584723902.jpg\" width=50%>\n",
    "    </div>\n",
    "\"\"\"\n",
    "\n",
    "msg1.HTMLBody = html.format('Alan')\n",
    "msg1.display()\n"
   ]
  },
  {
   "cell_type": "code",
   "execution_count": 33,
   "metadata": {},
   "outputs": [
    {
     "name": "stdout",
     "output_type": "stream",
     "text": [
      "Alan\n",
      "Peter\n",
      "Fung\n"
     ]
    }
   ],
   "source": [
    "x = ['Alan','Peter','Fung']\n",
    "for i in x:\n",
    "    print(i)"
   ]
  },
  {
   "cell_type": "markdown",
   "metadata": {},
   "source": [
    "**Adding Excel content to Outlook Email**"
   ]
  },
  {
   "cell_type": "code",
   "execution_count": 55,
   "metadata": {},
   "outputs": [
    {
     "name": "stdout",
     "output_type": "stream",
     "text": [
      "abs_file1= d:\\Google\\1_Work\\1_Script\\1.1_Python\\001_start\\3.05_Outlook_att1.xlsx\n",
      "abs_img1= d:\\Google\\1_Work\\1_Script\\1.1_Python\\001_start\\output_img1.png\n",
      "abs_img2= d:\\Google\\1_Work\\1_Script\\1.1_Python\\001_start\\3.05_Outlook_img2.jpg\n"
     ]
    }
   ],
   "source": [
    "import os\n",
    "import win32com.client as win32\n",
    "from PIL import ImageGrab\n",
    "import pathlib\n",
    "\n",
    "file1 = '3.05_Outlook_att2.xlsx'\n",
    "wb_path = os.getcwd() + '\\\\' + file1\n",
    "excel = win32.Dispatch('Excel.Application')\n",
    "wb = excel.Workbooks.Open(wb_path)\n",
    "sheet1 = wb.Sheets.Item(1)\n",
    "sheet1 = wb.Sheets[0]\n",
    "sheet1 = wb.Sheets['Summary']\n",
    "excel.visible = 1\n",
    "copyrange = sheet1.Range('A3:B8')\n",
    "copyrange.CopyPicture(Appearance=1, Format=2)\n",
    "img1 = 'output_img1.png'\n",
    "ImageGrab.grabclipboard().save(img1)\n",
    "excel.Quit()\n",
    "\n",
    "path_img1 = os.getcwd() + '\\\\' + img1\n",
    "\n",
    "# Send email\n",
    "outlook = win32.Dispatch(\"Outlook.Application\")\n",
    "msg1 = outlook.CreateItem(0)\n",
    "msg1.To = 'aaaaaa@gmail.com;'\n",
    "msg1.CC = 'aaaaaa@gmail.com;'\n",
    "msg1.Subject = 'Happy Birthday!'\n",
    "\n",
    "file1 = '3.05_Outlook_att1.xlsx'\n",
    "img2 = '3.05_Outlook_img2.jpg'\n",
    "\n",
    "path_file1 = pathlib.Path(file1)\n",
    "path_img1 = pathlib.Path(img1)\n",
    "path_img2 = pathlib.Path(img2)\n",
    "\n",
    "#absolute location\n",
    "abs_file1 = str(path_file1.absolute())\n",
    "abs_img1 = str(path_img1.absolute())\n",
    "abs_img2 = str(path_img2.absolute())\n",
    "\n",
    "print('abs_file1= ' + abs_file1)\n",
    "print('abs_img1= ' + abs_img1)\n",
    "print('abs_img2= ' + abs_img2)\n",
    "\n",
    "# add the file1 as attachment\n",
    "msg1.Attachments.Add(abs_file1)\n",
    "\n",
    "# add the image1 & image2\n",
    "att_img1 = msg1.Attachments.Add(abs_img1)\n",
    "att_img2 = msg1.Attachments.Add(abs_img2)\n",
    "\n",
    "html = \"\"\"\n",
    "    <div>\n",
    "        <h1 style=\"font-family: 'Lucida Handwriting'; font-size: 56; font-weight: bold; color: #9eac9c;\">\n",
    "            Happy Birthday!! \n",
    "        </h1>\n",
    "        <span style=\"font-family: 'Lucida Sans'; font-size: 28; color: #8d395c;\">\n",
    "            Wishing you all the best on your birthday!!\n",
    "        </span>\n",
    "    </div><br>\n",
    "    <div>\n",
    "        <img src=\"cid:demo_img1\"><br/><br/>\n",
    "        <img src=\"cid:demo_img2\">\n",
    "    </div>\n",
    "\"\"\"\n",
    "\n",
    "att_img1.PropertyAccessor.SetProperty(\"http://schemas.microsoft.com/mapi/proptag/0x3712001F\", \"demo_img1\")\n",
    "att_img2.PropertyAccessor.SetProperty(\"http://schemas.microsoft.com/mapi/proptag/0x3712001F\", \"demo_img2\")\n",
    "\n",
    "msg1.HTMLBody = html\n",
    "msg1.Display()"
   ]
  },
  {
   "cell_type": "code",
   "execution_count": 62,
   "metadata": {},
   "outputs": [],
   "source": [
    "import os\n",
    "import win32com.client as win32\n",
    "from PIL import ImageGrab\n",
    "import pathlib\n",
    "\n",
    "file1 = '3.05_Outlook_att2.xlsx'\n",
    "wb_path = os.getcwd() + '\\\\' + file1\n",
    "excel = win32.Dispatch('Excel.Application')\n",
    "wb = excel.Workbooks.Open(wb_path)\n",
    "sheet1 = wb.Sheets.Item(1)\n",
    "sheet1 = wb.Sheets[0]\n",
    "sheet1 = wb.Sheets['Summary']\n",
    "excel.visible = 1\n",
    "copyrange = sheet1.Range('A3:B8')\n",
    "copyrange.CopyPicture(Appearance=1, Format=2)\n",
    "img1 = 'output_img1.png'\n",
    "ImageGrab.grabclipboard().save(img1)\n",
    "excel.Quit()\n",
    "\n",
    "# Send email\n",
    "outlook = win32.Dispatch(\"Outlook.Application\")\n",
    "msg1 = outlook.CreateItem(0)\n",
    "msg1.To = 'aaaaaa@gmail.com;'\n",
    "msg1.CC = 'aaaaaa@gmail.com;'\n",
    "msg1.Subject = 'Happy Birthday!'\n",
    "\n",
    "file1 = '3.05_Outlook_att1.xlsx'\n",
    "img2 = '3.05_Outlook_img2.jpg'\n",
    "\n",
    "path_file1 = pathlib.Path(file1)\n",
    "path_img1 = os.getcwd() + '\\\\' + img1\n",
    "path_img2 = os.getcwd() + '\\\\' + img2\n",
    "\n",
    "# absolute location\n",
    "abs_file1 = str(path_file1.absolute())\n",
    "\n",
    "# add the file1 as attachment\n",
    "msg1.Attachments.Add(abs_file1)\n",
    "\n",
    "html = \"\"\"\n",
    "    <div>\n",
    "        <h1 style=\"font-family: 'Lucida Handwriting'; font-size: 56; font-weight: bold; color: #9eac9c;\">\n",
    "            Happy Birthday!! \n",
    "        </h1>\n",
    "        <span style=\"font-family: 'Lucida Sans'; font-size: 28; color: #8d395c;\">\n",
    "            Wishing you all the best on your birthday!!\n",
    "        </span>\n",
    "    </div><br>\n",
    "    <div>\n",
    "        <img src={attimg1}><br/><br/>\n",
    "        <img src={attimg2}><br/>\n",
    "    </div>\n",
    "\"\"\"\n",
    "\n",
    "msg1.HTMLBody = html.format(attimg1=path_img1,attimg2=path_img2)\n",
    "msg1.Display()"
   ]
  }
 ],
 "metadata": {
  "kernelspec": {
   "display_name": "Python 3.9.4 64-bit",
   "language": "python",
   "name": "python3"
  },
  "language_info": {
   "codemirror_mode": {
    "name": "ipython",
    "version": 3
   },
   "file_extension": ".py",
   "mimetype": "text/x-python",
   "name": "python",
   "nbconvert_exporter": "python",
   "pygments_lexer": "ipython3",
   "version": "3.9.4"
  },
  "orig_nbformat": 4,
  "vscode": {
   "interpreter": {
    "hash": "fe5cf89f7427700fbbd2b7e94754439c720cb46ec6a08ffaac3d8e32e153cd87"
   }
  }
 },
 "nbformat": 4,
 "nbformat_minor": 2
}
