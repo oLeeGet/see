{
 "cells": [
  {
   "cell_type": "markdown",
   "metadata": {},
   "source": [
    "**List all file list**"
   ]
  },
  {
   "cell_type": "code",
   "execution_count": 13,
   "metadata": {},
   "outputs": [
    {
     "name": "stdout",
     "output_type": "stream",
     "text": [
      "['Firstrade.py', 'FT_CSV_91508642.csv', 'FT_testing.txt', 'interact_mode2.ipynb']\n"
     ]
    }
   ],
   "source": [
    "#method 1\n",
    "import os\n",
    "data_location = 'D:/Google/1_Work/1_Script/1.1_Python/Stock'\n",
    "file_list=[]\n",
    "for file in os.listdir(data_location):\n",
    "    file_list.append(file)\n",
    "print(file_list)"
   ]
  },
  {
   "cell_type": "code",
   "execution_count": 30,
   "metadata": {},
   "outputs": [
    {
     "name": "stdout",
     "output_type": "stream",
     "text": [
      "['Firstrade.py', 'FT_CSV_91508642.csv', 'FT_testing.txt', 'interact_mode2.ipynb', 'testing']\n"
     ]
    }
   ],
   "source": [
    "#method 2\n",
    "import os\n",
    "data_location = 'D:/Google/1_Work/1_Script/1.1_Python/Stock'\n",
    "file_list2=[file for file in os.listdir(data_location)]\n",
    "print(file_list2)"
   ]
  },
  {
   "cell_type": "code",
   "execution_count": 15,
   "metadata": {},
   "outputs": [
    {
     "name": "stdout",
     "output_type": "stream",
     "text": [
      "['Firstrade.py', 'FT_CSV_91508642.csv', 'FT_testing.txt']\n"
     ]
    }
   ],
   "source": [
    "#method 2.1\n",
    "import os\n",
    "data_location = 'D:/Google/1_Work/1_Script/1.1_Python/Stock'\n",
    "file_list2=[file for file in os.listdir(data_location) if 'F' in file]\n",
    "\n",
    "print(file_list2)"
   ]
  },
  {
   "cell_type": "code",
   "execution_count": 16,
   "metadata": {},
   "outputs": [
    {
     "name": "stdout",
     "output_type": "stream",
     "text": [
      "['Firstrade.py', 0, 'FT_testing.txt']\n"
     ]
    }
   ],
   "source": [
    "#method 2.2.1\n",
    "import os\n",
    "data_location = 'D:/Google/1_Work/1_Script/1.1_Python/Stock'\n",
    "file_list2=[file if 'CSV' not in file else 0 for file in os.listdir(data_location) if 'F' in file]\n",
    "\n",
    "print(file_list2)"
   ]
  },
  {
   "cell_type": "code",
   "execution_count": 18,
   "metadata": {},
   "outputs": [
    {
     "name": "stdout",
     "output_type": "stream",
     "text": [
      "['FT_CSV_91508642.csv']\n"
     ]
    }
   ],
   "source": [
    "#method 2.2.2\n",
    "import os\n",
    "data_location = 'D:/Google/1_Work/1_Script/1.1_Python/Stock'\n",
    "file_list2=[file for file in os.listdir(data_location) if '.csv' in file]\n",
    "\n",
    "print(file_list2)"
   ]
  },
  {
   "cell_type": "markdown",
   "metadata": {},
   "source": [
    "**Output the file name list to csv**"
   ]
  },
  {
   "cell_type": "code",
   "execution_count": 57,
   "metadata": {},
   "outputs": [
    {
     "name": "stdout",
     "output_type": "stream",
     "text": [
      "['Firstrade.py', 'FT_CSV_91508642.csv', 'FT_testing.txt', 'interact_mode2.ipynb', 'testing']\n",
      "{'FIELD_NAMES': ['Firstrade.py', 'FT_CSV_91508642.csv', 'FT_testing.txt', 'interact_mode2.ipynb', 'testing']}\n",
      "            FIELD_NAMES\n",
      "0          Firstrade.py\n",
      "1   FT_CSV_91508642.csv\n",
      "2        FT_testing.txt\n",
      "3  interact_mode2.ipynb\n",
      "4               testing\n",
      "20220731\n"
     ]
    }
   ],
   "source": [
    "import pandas as pd\n",
    "import datetime as dt\n",
    "print(file_list2)\n",
    "file_list_dist = {'FIELD_NAMES' : file_list2}\n",
    "print(file_list_dist)\n",
    "df1 = pd.DataFrame(file_list_dist)\n",
    "print(df1)\n",
    "save_to = 'D:/Google/1_Work/1_Script/1.1_Python/Stock/testing/'\n",
    "when = dt.date.today().strftime('%Y%m%d')\n",
    "print(when)\n",
    "df1.to_csv(save_to + 'my_file_name_' + str(when) + '.csv')"
   ]
  },
  {
   "cell_type": "markdown",
   "metadata": {},
   "source": [
    "**Move files**"
   ]
  },
  {
   "cell_type": "code",
   "execution_count": 67,
   "metadata": {},
   "outputs": [],
   "source": [
    "import os\n",
    "old_location = 'D:/Google/1_Work/1_Script/1.1_Python/Stock/'\n",
    "new_location = 'D:/Google/1_Work/1_Script/1.1_Python/999_Data/testing/'\n",
    "for file in os.listdir(old_location):\n",
    "    os.rename(old_location + file, new_location + file)"
   ]
  },
  {
   "cell_type": "markdown",
   "metadata": {},
   "source": [
    "**Search text in file**"
   ]
  },
  {
   "cell_type": "code",
   "execution_count": 74,
   "metadata": {},
   "outputs": [
    {
     "name": "stdout",
     "output_type": "stream",
     "text": [
      "interact_mode2.ipynb\n"
     ]
    }
   ],
   "source": [
    "print(file)"
   ]
  },
  {
   "cell_type": "code",
   "execution_count": 89,
   "metadata": {},
   "outputs": [
    {
     "name": "stdout",
     "output_type": "stream",
     "text": [
      "['Firstrade.py', 'FT_testing.txt']\n"
     ]
    }
   ],
   "source": [
    "import os\n",
    "\n",
    "import os\n",
    "data_location = 'D:/Google/1_Work/1_Script/1.1_Python/Stock'\n",
    "file_list2=[file for file in os.listdir(data_location) if 'F' in file]\n",
    "#print(file_list2)\n",
    "\n",
    "find_txt = 'hihi'\n",
    "dir_to_search = 'D:/Google/1_Work/1_Script/1.1_Python/Stock/'\n",
    "result = []\n",
    "for x in file_list2:\n",
    "    with open(dir_to_search + x) as f:\n",
    "        if find_txt in f.read():\n",
    "            result.append(x)\n",
    "\n",
    "print(result)"
   ]
  }
 ],
 "metadata": {
  "kernelspec": {
   "display_name": "Python 3.9.4 64-bit",
   "language": "python",
   "name": "python3"
  },
  "language_info": {
   "codemirror_mode": {
    "name": "ipython",
    "version": 3
   },
   "file_extension": ".py",
   "mimetype": "text/x-python",
   "name": "python",
   "nbconvert_exporter": "python",
   "pygments_lexer": "ipython3",
   "version": "3.9.4"
  },
  "orig_nbformat": 4,
  "vscode": {
   "interpreter": {
    "hash": "fe5cf89f7427700fbbd2b7e94754439c720cb46ec6a08ffaac3d8e32e153cd87"
   }
  }
 },
 "nbformat": 4,
 "nbformat_minor": 2
}
